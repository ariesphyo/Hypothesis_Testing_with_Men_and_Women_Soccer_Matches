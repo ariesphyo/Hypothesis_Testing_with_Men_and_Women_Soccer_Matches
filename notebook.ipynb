{
  "cells": [
    {
      "source": [
        "# import required libraries\n",
        "import pandas as pd\n",
        "import matplotlib.pyplot as plt\n",
        "import pingouin\n",
        "import scipy.stats as stats"
      ],
      "metadata": {
        "executionCancelledAt": null,
        "executionTime": 48,
        "lastExecutedAt": 1732816511058,
        "lastExecutedByKernel": "f87f70d6-4221-4972-86a5-5589d5cb67e5",
        "lastScheduledRunId": null,
        "lastSuccessfullyExecutedCode": "# import libraries \n# Start your code here!\nimport pandas as pd\nimport matplotlib.pyplot as plt\nimport pingouin\nimport scipy.stats as stats",
        "id": "84a3c4c8-534b-4d1a-9919-17e05208b2ca"
      },
      "id": "84a3c4c8-534b-4d1a-9919-17e05208b2ca",
      "cell_type": "code",
      "execution_count": null,
      "outputs": []
    },
    {
      "source": [
        "# read women_results data\n",
        "women_results = pd.read_csv('women_results.csv', parse_dates = [\"date\"], index_col = 0)\n",
        "\n",
        "# read men_results data\n",
        "men_results = pd.read_csv('men_results.csv', parse_dates = [\"date\"], index_col = 0)"
      ],
      "metadata": {
        "executionCancelledAt": null,
        "executionTime": 66,
        "lastExecutedAt": 1732816511124,
        "lastExecutedByKernel": "f87f70d6-4221-4972-86a5-5589d5cb67e5",
        "lastScheduledRunId": null,
        "lastSuccessfullyExecutedCode": "# read women_results data \nwomen_results = pd.read_csv('women_results.csv', parse_dates = [\"date\"], index_col = 0)\n\n# read men_results data \nmen_results = pd.read_csv('men_results.csv', parse_dates = [\"date\"], index_col = 0)",
        "outputsMetadata": {
          "0": {
            "height": 238,
            "type": "dataFrame"
          }
        },
        "id": "0598fc36-1cc1-4616-86e8-64f3399ea0e5"
      },
      "cell_type": "code",
      "id": "0598fc36-1cc1-4616-86e8-64f3399ea0e5",
      "outputs": [],
      "execution_count": null
    },
    {
      "source": [
        "women_results.info()"
      ],
      "metadata": {
        "executionCancelledAt": null,
        "executionTime": 54,
        "lastExecutedAt": 1732816511179,
        "lastExecutedByKernel": "f87f70d6-4221-4972-86a5-5589d5cb67e5",
        "lastScheduledRunId": null,
        "lastSuccessfullyExecutedCode": "women_results.info()",
        "outputsMetadata": {
          "0": {
            "height": 290,
            "type": "stream"
          }
        },
        "id": "a0696a76-4139-4ab3-b717-c971d3876c29",
        "outputId": "d2e9bbd2-82fa-4c12-b73b-2b073189231b"
      },
      "cell_type": "code",
      "id": "a0696a76-4139-4ab3-b717-c971d3876c29",
      "outputs": [
        {
          "output_type": "stream",
          "name": "stdout",
          "text": "<class 'pandas.core.frame.DataFrame'>\nInt64Index: 4884 entries, 0 to 4883\nData columns (total 6 columns):\n #   Column      Non-Null Count  Dtype         \n---  ------      --------------  -----         \n 0   date        4884 non-null   datetime64[ns]\n 1   home_team   4884 non-null   object        \n 2   away_team   4884 non-null   object        \n 3   home_score  4884 non-null   int64         \n 4   away_score  4884 non-null   int64         \n 5   tournament  4884 non-null   object        \ndtypes: datetime64[ns](1), int64(2), object(3)\nmemory usage: 267.1+ KB\n"
        }
      ],
      "execution_count": null
    },
    {
      "source": [
        "men_results.info()"
      ],
      "metadata": {
        "executionCancelledAt": null,
        "executionTime": 50,
        "lastExecutedAt": 1732816511230,
        "lastExecutedByKernel": "f87f70d6-4221-4972-86a5-5589d5cb67e5",
        "lastScheduledRunId": null,
        "lastSuccessfullyExecutedCode": "men_results.info()",
        "outputsMetadata": {
          "0": {
            "height": 290,
            "type": "stream"
          }
        },
        "id": "24b3f5f0-8e19-4d2f-8fa9-6d2d1bf0f41d",
        "outputId": "a23a5ad7-9a6f-4b47-ac46-c1bb01503a9c"
      },
      "cell_type": "code",
      "id": "24b3f5f0-8e19-4d2f-8fa9-6d2d1bf0f41d",
      "outputs": [
        {
          "output_type": "stream",
          "name": "stdout",
          "text": "<class 'pandas.core.frame.DataFrame'>\nInt64Index: 44353 entries, 0 to 44352\nData columns (total 6 columns):\n #   Column      Non-Null Count  Dtype         \n---  ------      --------------  -----         \n 0   date        44353 non-null  datetime64[ns]\n 1   home_team   44353 non-null  object        \n 2   away_team   44353 non-null  object        \n 3   home_score  44353 non-null  int64         \n 4   away_score  44353 non-null  int64         \n 5   tournament  44353 non-null  object        \ndtypes: datetime64[ns](1), int64(2), object(3)\nmemory usage: 2.4+ MB\n"
        }
      ],
      "execution_count": null
    },
    {
      "source": [
        "# check the number of rows and columns\n",
        "print(women_results.shape)\n",
        "print(men_results.shape)"
      ],
      "metadata": {
        "executionCancelledAt": null,
        "executionTime": 48,
        "lastExecutedAt": 1732816511278,
        "lastExecutedByKernel": "f87f70d6-4221-4972-86a5-5589d5cb67e5",
        "lastScheduledRunId": null,
        "lastSuccessfullyExecutedCode": "print(women_results.shape)\nprint(men_results.shape)",
        "outputsMetadata": {
          "0": {
            "height": 59,
            "type": "stream"
          }
        },
        "id": "103db14c-bcd8-47c9-a210-4e4aa554f16f",
        "outputId": "0aebafea-98eb-4fd6-8369-5dfa71189d49"
      },
      "cell_type": "code",
      "id": "103db14c-bcd8-47c9-a210-4e4aa554f16f",
      "outputs": [
        {
          "output_type": "stream",
          "name": "stdout",
          "text": "(4884, 6)\n(44353, 6)\n"
        }
      ],
      "execution_count": null
    },
    {
      "source": [
        "# check the data types\n",
        "print(women_results.dtypes)\n",
        "print(men_results.dtypes)"
      ],
      "metadata": {
        "executionCancelledAt": null,
        "executionTime": 53,
        "lastExecutedAt": 1732816511331,
        "lastExecutedByKernel": "f87f70d6-4221-4972-86a5-5589d5cb67e5",
        "lastScheduledRunId": null,
        "lastSuccessfullyExecutedCode": "print(women_results.dtypes)\nprint(men_results.dtypes)",
        "outputsMetadata": {
          "0": {
            "height": 311,
            "type": "stream"
          }
        },
        "id": "670c62c2-348a-4a0f-9c94-1544c462332f",
        "outputId": "93976add-0acf-4756-ad19-f02230d1587f"
      },
      "cell_type": "code",
      "id": "670c62c2-348a-4a0f-9c94-1544c462332f",
      "outputs": [
        {
          "output_type": "stream",
          "name": "stdout",
          "text": "date          datetime64[ns]\nhome_team             object\naway_team             object\nhome_score             int64\naway_score             int64\ntournament            object\ndtype: object\ndate          datetime64[ns]\nhome_team             object\naway_team             object\nhome_score             int64\naway_score             int64\ntournament            object\ndtype: object\n"
        }
      ],
      "execution_count": null
    },
    {
      "source": [
        "# filter the data to only include official FIFA World Cup matches that took place after 2002-01-01\n",
        "women_sub = women_results[(women_results['tournament'] == 'FIFA World Cup') & (women_results['date'] > '2002-01-01')]\n",
        "\n",
        "men_sub = men_results[(men_results['tournament'] == 'FIFA World Cup') & (men_results['date'] > '2002-01-01')]"
      ],
      "metadata": {
        "executionCancelledAt": null,
        "executionTime": 59,
        "lastExecutedAt": 1732816511390,
        "lastExecutedByKernel": "f87f70d6-4221-4972-86a5-5589d5cb67e5",
        "lastScheduledRunId": null,
        "lastSuccessfullyExecutedCode": "# filter the data to only include official FIFA World Cup matches that took place after 2002-01-01\nwomen_sub = women_results[(women_results['tournament'] == 'FIFA World Cup') & (women_results['date'] > '2002-01-01')]\n\nmen_sub = men_results[(men_results['tournament'] == 'FIFA World Cup') & (men_results['date'] > '2002-01-01')]",
        "id": "4ee97a95-9ce8-4177-8d17-91a278883ff4"
      },
      "cell_type": "code",
      "id": "4ee97a95-9ce8-4177-8d17-91a278883ff4",
      "outputs": [],
      "execution_count": null
    },
    {
      "source": [
        "# check the number of rows and columns of the subset dataframes\n",
        "print(women_sub.shape)\n",
        "print(men_sub.shape)"
      ],
      "metadata": {
        "executionCancelledAt": null,
        "executionTime": 52,
        "lastExecutedAt": 1732816511443,
        "lastExecutedByKernel": "f87f70d6-4221-4972-86a5-5589d5cb67e5",
        "lastScheduledRunId": null,
        "lastSuccessfullyExecutedCode": "print(women_sub.shape)\nprint(men_sub.shape)",
        "outputsMetadata": {
          "0": {
            "height": 59,
            "type": "stream"
          }
        },
        "id": "829e5b59-9290-44ea-a156-bd3053d9d520",
        "outputId": "2c6ec587-95bf-4674-aaa8-f03b7c22cdd6"
      },
      "cell_type": "code",
      "id": "829e5b59-9290-44ea-a156-bd3053d9d520",
      "outputs": [
        {
          "output_type": "stream",
          "name": "stdout",
          "text": "(200, 6)\n(384, 6)\n"
        }
      ],
      "execution_count": null
    },
    {
      "source": [
        "# create new 'total_score' and 'gender' columns\n",
        "women_sub['total_score'] = women_sub['home_score'] + women_sub['away_score']\n",
        "women_sub['gender'] = \"women\"\n",
        "\n",
        "# for men\n",
        "men_sub['total_score'] = men_sub['home_score'] + men_sub['away_score']\n",
        "men_sub['gender'] = \"men\""
      ],
      "metadata": {
        "executionCancelledAt": null,
        "executionTime": 51,
        "lastExecutedAt": 1732816511494,
        "lastExecutedByKernel": "f87f70d6-4221-4972-86a5-5589d5cb67e5",
        "lastScheduledRunId": null,
        "lastSuccessfullyExecutedCode": "# create new 'total_score' and 'gender' columns \nwomen_sub['total_score'] = women_sub['home_score'] + women_sub['away_score']\nwomen_sub['gender'] = \"women\"\n\n# for men\nmen_sub['total_score'] = men_sub['home_score'] + men_sub['away_score']\nmen_sub['gender'] = \"men\"",
        "id": "fbe567c9-c4be-41f5-97ae-87e02f495bbc"
      },
      "cell_type": "code",
      "id": "fbe567c9-c4be-41f5-97ae-87e02f495bbc",
      "outputs": [],
      "execution_count": null
    },
    {
      "source": [
        "# Check Women's total score distribution\n",
        "women_sub['total_score'].hist()\n",
        "plt.title(\"Women's Total Score Distribution\")\n",
        "plt.show()"
      ],
      "metadata": {
        "executionCancelledAt": null,
        "executionTime": 200,
        "lastExecutedAt": 1732816511695,
        "lastExecutedByKernel": "f87f70d6-4221-4972-86a5-5589d5cb67e5",
        "lastScheduledRunId": null,
        "lastSuccessfullyExecutedCode": "# Check Women's total score distribution \nwomen_sub['total_score'].hist()\nplt.title(\"Women's Total Score Distribution\")\nplt.show()",
        "id": "591692af-60d9-4e4d-ae4f-79767a99467d",
        "outputId": "ff0c089b-d16e-49db-bebc-eebd9a2ca99a"
      },
      "cell_type": "code",
      "id": "591692af-60d9-4e4d-ae4f-79767a99467d",
      "outputs": [
        {
          "output_type": "display_data",
          "data": {
            "text/plain": "<Figure size 640x480 with 1 Axes>",
            "image/png": "[encoded data removed]"
          },
          "metadata": {
            "image/png": {
              "width": 543,
              "height": 434
            }
          }
        }
      ],
      "execution_count": null
    },
    {
      "source": [
        "# Check Men's total score distribution\n",
        "men_sub['total_score'].hist()\n",
        "plt.title(\"Men's Total Score Distribution\")\n",
        "plt.show()"
      ],
      "metadata": {
        "executionCancelledAt": null,
        "executionTime": 190,
        "lastExecutedAt": 1732816511885,
        "lastExecutedByKernel": "f87f70d6-4221-4972-86a5-5589d5cb67e5",
        "lastScheduledRunId": null,
        "lastSuccessfullyExecutedCode": "# Check Men's total score distribution \nmen_sub['total_score'].hist()\nplt.title(\"Men's Total Score Distribution\")\nplt.show()",
        "id": "53b36648-10b9-456c-8b06-0fda12404927",
        "outputId": "23ba0104-31cc-4b89-d052-ae2b8ec8c668"
      },
      "cell_type": "code",
      "id": "53b36648-10b9-456c-8b06-0fda12404927",
      "outputs": [
        {
          "output_type": "display_data",
          "data": {
            "text/plain": "<Figure size 640x480 with 1 Axes>",
            "image/png": "[encoded data removed]"
          },
          "metadata": {
            "image/png": {
              "width": 543,
              "height": 434
            }
          }
        }
      ],
      "execution_count": null
    },
    {
      "source": [
        "# concatenate dataframes\n",
        "combine_data = pd.concat([women_sub, men_sub], ignore_index = True)\n",
        "combine_data.head()"
      ],
      "metadata": {
        "executionCancelledAt": null,
        "executionTime": null,
        "lastExecutedAt": null,
        "lastExecutedByKernel": null,
        "lastScheduledRunId": null,
        "lastSuccessfullyExecutedCode": null,
        "outputsMetadata": {
          "0": {
            "height": 238,
            "type": "dataFrame"
          }
        },
        "id": "31b791a1-32eb-4ce9-a43b-013f0a4330e6",
        "outputId": "997d65dc-bf8a-4f07-d831-27610dffea06"
      },
      "cell_type": "code",
      "id": "31b791a1-32eb-4ce9-a43b-013f0a4330e6",
      "outputs": [
        {
          "output_type": "execute_result",
          "data": {
            "application/com.datacamp.data-table.v2+json": {
              "table": {
                "schema": {
                  "fields": [
                    {
                      "name": "index",
                      "type": "integer"
                    },
                    {
                      "name": "date",
                      "type": "datetime"
                    },
                    {
                      "name": "home_team",
                      "type": "string"
                    },
                    {
                      "name": "away_team",
                      "type": "string"
                    },
                    {
                      "name": "home_score",
                      "type": "integer"
                    },
                    {
                      "name": "away_score",
                      "type": "integer"
                    },
                    {
                      "name": "tournament",
                      "type": "string"
                    },
                    {
                      "name": "total_score",
                      "type": "integer"
                    },
                    {
                      "name": "gender",
                      "type": "string"
                    }
                  ],
                  "primaryKey": [
                    "index"
                  ],
                  "pandas_version": "1.4.0"
                },
                "data": {
                  "index": [
                    0,
                    1,
                    2,
                    3,
                    4
                  ],
                  "date": [
                    "2003-09-20T00:00:00.000",
                    "2003-09-20T00:00:00.000",
                    "2003-09-20T00:00:00.000",
                    "2003-09-20T00:00:00.000",
                    "2003-09-21T00:00:00.000"
                  ],
                  "home_team": [
                    "Nigeria",
                    "Norway",
                    "Germany",
                    "Japan",
                    "United States"
                  ],
                  "away_team": [
                    "North Korea",
                    "France",
                    "Canada",
                    "Argentina",
                    "Sweden"
                  ],
                  "home_score": [
                    0,
                    2,
                    4,
                    6,
                    3
                  ],
                  "away_score": [
                    3,
                    0,
                    1,
                    0,
                    1
                  ],
                  "tournament": [
                    "FIFA World Cup",
                    "FIFA World Cup",
                    "FIFA World Cup",
                    "FIFA World Cup",
                    "FIFA World Cup"
                  ],
                  "total_score": [
                    3,
                    2,
                    5,
                    6,
                    4
                  ],
                  "gender": [
                    "women",
                    "women",
                    "women",
                    "women",
                    "women"
                  ]
                }
              },
              "total_rows": 5,
              "truncation_type": null
            },
            "text/plain": "        date      home_team    away_team  ...      tournament  total_score gender\n0 2003-09-20        Nigeria  North Korea  ...  FIFA World Cup            3  women\n1 2003-09-20         Norway       France  ...  FIFA World Cup            2  women\n2 2003-09-20        Germany       Canada  ...  FIFA World Cup            5  women\n3 2003-09-20          Japan    Argentina  ...  FIFA World Cup            6  women\n4 2003-09-21  United States       Sweden  ...  FIFA World Cup            4  women\n\n[5 rows x 8 columns]",
            "text/html": "<div>\n<style scoped>\n    .dataframe tbody tr th:only-of-type {\n        vertical-align: middle;\n    }\n\n    .dataframe tbody tr th {\n        vertical-align: top;\n    }\n\n    .dataframe thead th {\n        text-align: right;\n    }\n</style>\n<table border=\"1\" class=\"dataframe\">\n  <thead>\n    <tr style=\"text-align: right;\">\n      <th></th>\n      <th>date</th>\n      <th>home_team</th>\n      <th>away_team</th>\n      <th>home_score</th>\n      <th>away_score</th>\n      <th>tournament</th>\n      <th>total_score</th>\n      <th>gender</th>\n    </tr>\n  </thead>\n  <tbody>\n    <tr>\n      <th>0</th>\n      <td>2003-09-20</td>\n      <td>Nigeria</td>\n      <td>North Korea</td>\n      <td>0</td>\n      <td>3</td>\n      <td>FIFA World Cup</td>\n      <td>3</td>\n      <td>women</td>\n    </tr>\n    <tr>\n      <th>1</th>\n      <td>2003-09-20</td>\n      <td>Norway</td>\n      <td>France</td>\n      <td>2</td>\n      <td>0</td>\n      <td>FIFA World Cup</td>\n      <td>2</td>\n      <td>women</td>\n    </tr>\n    <tr>\n      <th>2</th>\n      <td>2003-09-20</td>\n      <td>Germany</td>\n      <td>Canada</td>\n      <td>4</td>\n      <td>1</td>\n      <td>FIFA World Cup</td>\n      <td>5</td>\n      <td>women</td>\n    </tr>\n    <tr>\n      <th>3</th>\n      <td>2003-09-20</td>\n      <td>Japan</td>\n      <td>Argentina</td>\n      <td>6</td>\n      <td>0</td>\n      <td>FIFA World Cup</td>\n      <td>6</td>\n      <td>women</td>\n    </tr>\n    <tr>\n      <th>4</th>\n      <td>2003-09-21</td>\n      <td>United States</td>\n      <td>Sweden</td>\n      <td>3</td>\n      <td>1</td>\n      <td>FIFA World Cup</td>\n      <td>4</td>\n      <td>women</td>\n    </tr>\n  </tbody>\n</table>\n</div>"
          },
          "metadata": {},
          "execution_count": 75
        }
      ],
      "execution_count": null
    },
    {
      "source": [
        "# check the mean of the total scores by gender\n",
        "combine_data.groupby('gender')['total_score'].mean()"
      ],
      "metadata": {
        "executionCancelledAt": null,
        "executionTime": null,
        "lastExecutedAt": null,
        "lastExecutedByKernel": null,
        "lastScheduledRunId": null,
        "lastSuccessfullyExecutedCode": null,
        "outputsMetadata": {
          "0": {
            "height": 137,
            "type": "dataFrame"
          }
        },
        "id": "343f4012-a775-4d57-a895-6d6607e2c66b",
        "outputId": "d8aa4ec6-187a-4c67-cca7-f31323aca41a"
      },
      "cell_type": "code",
      "id": "343f4012-a775-4d57-a895-6d6607e2c66b",
      "outputs": [
        {
          "output_type": "execute_result",
          "data": {
            "application/com.datacamp.data-table.v2+json": {
              "table": {
                "schema": {
                  "fields": [
                    {
                      "name": "gender",
                      "type": "string"
                    },
                    {
                      "name": "total_score",
                      "type": "number"
                    }
                  ],
                  "primaryKey": [
                    "gender"
                  ],
                  "pandas_version": "1.4.0"
                },
                "data": {
                  "gender": [
                    "men",
                    "women"
                  ],
                  "total_score": [
                    2.5130208333,
                    2.98
                  ]
                }
              },
              "total_rows": 2,
              "truncation_type": null
            },
            "text/plain": "gender\nmen      2.513021\nwomen    2.980000\nName: total_score, dtype: float64"
          },
          "metadata": {},
          "execution_count": 76
        }
      ],
      "execution_count": null
    },
    {
      "source": [
        "# subset the data\n",
        "combine_data = combine_data[['total_score', 'gender']]\n",
        "\n",
        "# to conduct the Wilcoxon-Mann-Whitney test, convert the data from long to wide format\n",
        "combine_data_wide = combine_data.pivot(values = \"total_score\", columns = \"gender\")\n",
        "combine_data_wide.head()"
      ],
      "metadata": {
        "executionCancelledAt": null,
        "executionTime": null,
        "lastExecutedAt": null,
        "lastExecutedByKernel": null,
        "lastScheduledRunId": null,
        "lastSuccessfullyExecutedCode": null,
        "outputsMetadata": {
          "0": {
            "height": 221,
            "type": "dataFrame"
          }
        },
        "id": "6931f0b8-835d-406b-adc6-3a9e8c97aaff",
        "outputId": "bf5dbfc6-94ef-4b2f-b1e9-a0208342948a"
      },
      "cell_type": "code",
      "id": "6931f0b8-835d-406b-adc6-3a9e8c97aaff",
      "outputs": [
        {
          "output_type": "execute_result",
          "data": {
            "application/com.datacamp.data-table.v2+json": {
              "table": {
                "schema": {
                  "fields": [
                    {
                      "name": "index",
                      "type": "integer"
                    },
                    {
                      "name": "men",
                      "type": "number"
                    },
                    {
                      "name": "women",
                      "type": "number"
                    }
                  ],
                  "primaryKey": [
                    "index"
                  ],
                  "pandas_version": "1.4.0"
                },
                "data": {
                  "index": [
                    0,
                    1,
                    2,
                    3,
                    4
                  ],
                  "men": [
                    null,
                    null,
                    null,
                    null,
                    null
                  ],
                  "women": [
                    3,
                    2,
                    5,
                    6,
                    4
                  ]
                }
              },
              "total_rows": 5,
              "truncation_type": null
            },
            "text/plain": "gender  men  women\n0       NaN    3.0\n1       NaN    2.0\n2       NaN    5.0\n3       NaN    6.0\n4       NaN    4.0",
            "text/html": "<div>\n<style scoped>\n    .dataframe tbody tr th:only-of-type {\n        vertical-align: middle;\n    }\n\n    .dataframe tbody tr th {\n        vertical-align: top;\n    }\n\n    .dataframe thead th {\n        text-align: right;\n    }\n</style>\n<table border=\"1\" class=\"dataframe\">\n  <thead>\n    <tr style=\"text-align: right;\">\n      <th>gender</th>\n      <th>men</th>\n      <th>women</th>\n    </tr>\n  </thead>\n  <tbody>\n    <tr>\n      <th>0</th>\n      <td>NaN</td>\n      <td>3.0</td>\n    </tr>\n    <tr>\n      <th>1</th>\n      <td>NaN</td>\n      <td>2.0</td>\n    </tr>\n    <tr>\n      <th>2</th>\n      <td>NaN</td>\n      <td>5.0</td>\n    </tr>\n    <tr>\n      <th>3</th>\n      <td>NaN</td>\n      <td>6.0</td>\n    </tr>\n    <tr>\n      <th>4</th>\n      <td>NaN</td>\n      <td>4.0</td>\n    </tr>\n  </tbody>\n</table>\n</div>"
          },
          "metadata": {},
          "execution_count": 77
        }
      ],
      "execution_count": null
    },
    {
      "source": [
        "# perform the Wilcoxon-Mann-Whitney test\n",
        "result_pingouin = pingouin.mwu(x=combine_data_wide['women'],\n",
        "y=combine_data_wide['men'],\n",
        "alternative='greater')\n",
        "print(result_pingouin)"
      ],
      "metadata": {
        "executionCancelledAt": null,
        "executionTime": 51,
        "lastExecutedAt": 1732816512102,
        "lastExecutedByKernel": "f87f70d6-4221-4972-86a5-5589d5cb67e5",
        "lastScheduledRunId": null,
        "lastSuccessfullyExecutedCode": "# perform the Wilcoxon-Mann-Whitney test\nresult_pingouin = pingouin.mwu(x=combine_data_wide['women'],\ny=combine_data_wide['men'],\nalternative='greater') \nprint(result_pingouin)",
        "outputsMetadata": {
          "0": {
            "height": 59,
            "type": "stream"
          }
        },
        "id": "ffb8a885-c665-4397-a3cc-c852303c56a0",
        "outputId": "ebc12410-fc69-4cf3-d521-2657f74cd142"
      },
      "cell_type": "code",
      "id": "ffb8a885-c665-4397-a3cc-c852303c56a0",
      "outputs": [
        {
          "output_type": "stream",
          "name": "stdout",
          "text": "       U-val alternative     p-val       RBC      CLES\nMWU  43273.0     greater  0.005107 -0.126901  0.563451\n"
        }
      ],
      "execution_count": null
    },
    {
      "source": [
        "# Extracting the p-value using pingouin\n",
        "p_val = result_pingouin['p-val'].values[0].round(6)\n",
        "p_val"
      ],
      "metadata": {
        "executionCancelledAt": null,
        "executionTime": 48,
        "lastExecutedAt": 1732816512150,
        "lastExecutedByKernel": "f87f70d6-4221-4972-86a5-5589d5cb67e5",
        "lastScheduledRunId": null,
        "lastSuccessfullyExecutedCode": "# Extracting the p-value using pingouin\np_val = result_pingouin['p-val'].values[0].round(6)\np_val",
        "id": "f92621f9-789c-42be-bed9-f92e11d2e837",
        "outputId": "136d3c3a-70c3-4948-ab44-65e58259851e"
      },
      "cell_type": "code",
      "id": "f92621f9-789c-42be-bed9-f92e11d2e837",
      "outputs": [
        {
          "output_type": "execute_result",
          "data": {
            "text/plain": "0.005107"
          },
          "metadata": {},
          "execution_count": 79
        }
      ],
      "execution_count": null
    },
    {
      "source": [
        "# determining the result from the p-value and significance level\n",
        "alpha = 0.1\n",
        "if p_val <= alpha:\n",
        "    result = \"reject\"\n",
        "else:\n",
        "    result = \"fail to rejct\"\n",
        "\n",
        "result_dict = {\"p_val\": p_val, \"result\": result}\n",
        "result_dict"
      ],
      "metadata": {
        "executionCancelledAt": null,
        "executionTime": 48,
        "lastExecutedAt": 1732816512198,
        "lastExecutedByKernel": "f87f70d6-4221-4972-86a5-5589d5cb67e5",
        "lastScheduledRunId": null,
        "lastSuccessfullyExecutedCode": "# determining the result from the p-value and significance level\nalpha = 0.1\nif p_val <= alpha:\n    result = \"reject\"\nelse:\n    result = \"fail to rejct\"\n\nresult_dict = {\"p_val\": p_val, \"result\": result}\nresult_dict ",
        "id": "6400c408-7125-4d2f-8102-ad07d210e76d",
        "outputId": "c55c9728-3191-4c0f-c061-056545921d8a"
      },
      "cell_type": "code",
      "id": "6400c408-7125-4d2f-8102-ad07d210e76d",
      "outputs": [
        {
          "output_type": "execute_result",
          "data": {
            "text/plain": "{'p_val': 0.005107, 'result': 'reject'}"
          },
          "metadata": {},
          "execution_count": 80
        }
      ],
      "execution_count": null
    },
    {
      "source": [
        "# Prepare the data to perform the hypothesis test using SciPy\n",
        "women_scores = combine_data_wide['women'].dropna()\n",
        "men_scores = combine_data_wide['men'].dropna()\n",
        "\n",
        "# Perform the Mann-Whitney U test using SciPy\n",
        "statistic, p_value = stats.mannwhitneyu(women_scores, men_scores, alternative='greater')\n",
        "\n",
        "# Extracting the p-value using SciPy\n",
        "print('P-value:', p_value)"
      ],
      "metadata": {
        "executionCancelledAt": null,
        "executionTime": 57,
        "lastExecutedAt": 1732816512255,
        "lastExecutedByKernel": "f87f70d6-4221-4972-86a5-5589d5cb67e5",
        "lastScheduledRunId": null,
        "lastSuccessfullyExecutedCode": "# Prepare the data to perform the hypothesis test using SciPy \nwomen_scores = combine_data_wide['women'].dropna()\nmen_scores = combine_data_wide['men'].dropna()\n\n# Perform the Mann-Whitney U test using SciPy \nstatistic, p_value = stats.mannwhitneyu(women_scores, men_scores, alternative='greater')\n\n# Extracting the p-value using SciPy\nprint('P-value:', p_value)",
        "outputsMetadata": {
          "0": {
            "height": 38,
            "type": "stream"
          }
        },
        "id": "799eefae-0080-43d7-bfa5-dcfb16774799",
        "outputId": "f02b055d-ad46-4ad7-e5c8-0cd155dfdd22"
      },
      "cell_type": "code",
      "id": "799eefae-0080-43d7-bfa5-dcfb16774799",
      "outputs": [
        {
          "output_type": "stream",
          "name": "stdout",
          "text": "P-value: 0.005106609825443641\n"
        }
      ],
      "execution_count": null
    }
  ],
  "metadata": {
    "colab": {
      "provenance": []
    },
    "kernelspec": {
      "display_name": "Python 3 (ipykernel)",
      "language": "python",
      "name": "python3"
    },
    "language_info": {
      "codemirror_mode": {
        "name": "ipython",
        "version": 3
      },
      "file_extension": ".py",
      "mimetype": "text/x-python",
      "name": "python",
      "nbconvert_exporter": "python",
      "pygments_lexer": "ipython3",
      "version": "3.8.10"
    }
  },
  "nbformat": 4,
  "nbformat_minor": 5
}